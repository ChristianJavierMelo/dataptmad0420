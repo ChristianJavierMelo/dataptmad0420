{
 "cells": [
  {
   "cell_type": "markdown",
   "metadata": {},
   "source": [
    "# Introduction to NumPy\n",
    "\n",
    "\n",
    "#### 1. Import NumPy under the name np."
   ]
  },
  {
   "cell_type": "code",
   "execution_count": 102,
   "metadata": {},
   "outputs": [],
   "source": [
    "# your code here\n",
    "import numpy as np"
   ]
  },
  {
   "cell_type": "markdown",
   "metadata": {},
   "source": [
    "#### 2. Print your NumPy version."
   ]
  },
  {
   "cell_type": "code",
   "execution_count": 103,
   "metadata": {},
   "outputs": [
    {
     "data": {
      "text/plain": [
       "'1.18.1'"
      ]
     },
     "execution_count": 103,
     "metadata": {},
     "output_type": "execute_result"
    }
   ],
   "source": [
    "# your code here\n",
    "np.version.version"
   ]
  },
  {
   "cell_type": "markdown",
   "metadata": {},
   "source": [
    "#### 3. Generate a 2x3x5 3-dimensional array with random values. Assign the array to variable *a*.\n",
    "**Challenge**: there are at least three easy ways that use numpy to generate random arrays. How many ways can you find?"
   ]
  },
  {
   "cell_type": "code",
   "execution_count": 104,
   "metadata": {},
   "outputs": [],
   "source": [
    "# Method 1\n",
    "a= np.random.random((2,3,5))"
   ]
  },
  {
   "cell_type": "code",
   "execution_count": 105,
   "metadata": {},
   "outputs": [],
   "source": [
    "# Method 2\n",
    "a = np.arange(0,3,0.1).reshape(2,3,5)"
   ]
  },
  {
   "cell_type": "code",
   "execution_count": 106,
   "metadata": {},
   "outputs": [],
   "source": [
    "# Method 3\n",
    "a = np.random.randint(0,100, size=(2,3,5))"
   ]
  },
  {
   "cell_type": "markdown",
   "metadata": {},
   "source": [
    "#### 4. Print *a*.\n"
   ]
  },
  {
   "cell_type": "code",
   "execution_count": 107,
   "metadata": {},
   "outputs": [
    {
     "data": {
      "text/plain": [
       "array([[[73, 69,  8, 19,  6],\n",
       "        [81, 11, 30, 56, 89],\n",
       "        [72, 89, 14, 14, 73]],\n",
       "\n",
       "       [[98, 67, 28, 33, 49],\n",
       "        [ 0, 76, 45, 14, 77],\n",
       "        [37,  9, 72, 56,  0]]])"
      ]
     },
     "execution_count": 107,
     "metadata": {},
     "output_type": "execute_result"
    }
   ],
   "source": [
    "# your code here\n",
    "a"
   ]
  },
  {
   "cell_type": "markdown",
   "metadata": {},
   "source": [
    "#### 5. Create a 5x2x3 3-dimensional array with all values equaling 1. Assign the array to variable *b*."
   ]
  },
  {
   "cell_type": "code",
   "execution_count": 108,
   "metadata": {},
   "outputs": [],
   "source": [
    "# your code here\n",
    "b = np.ones((5,2,3))"
   ]
  },
  {
   "cell_type": "markdown",
   "metadata": {},
   "source": [
    "#### 6. Print *b*.\n"
   ]
  },
  {
   "cell_type": "code",
   "execution_count": 109,
   "metadata": {},
   "outputs": [
    {
     "data": {
      "text/plain": [
       "array([[[1., 1., 1.],\n",
       "        [1., 1., 1.]],\n",
       "\n",
       "       [[1., 1., 1.],\n",
       "        [1., 1., 1.]],\n",
       "\n",
       "       [[1., 1., 1.],\n",
       "        [1., 1., 1.]],\n",
       "\n",
       "       [[1., 1., 1.],\n",
       "        [1., 1., 1.]],\n",
       "\n",
       "       [[1., 1., 1.],\n",
       "        [1., 1., 1.]]])"
      ]
     },
     "execution_count": 109,
     "metadata": {},
     "output_type": "execute_result"
    }
   ],
   "source": [
    "# your code here\n",
    "b"
   ]
  },
  {
   "cell_type": "markdown",
   "metadata": {},
   "source": [
    "#### 7. Do *a* and *b* have the same size? How do you prove that in Python code?"
   ]
  },
  {
   "cell_type": "code",
   "execution_count": 110,
   "metadata": {},
   "outputs": [
    {
     "name": "stdout",
     "output_type": "stream",
     "text": [
      "The array a with size 30 does the same size as the array b with size 30\n"
     ]
    }
   ],
   "source": [
    "# your code here\n",
    "if a.size == b.size:\n",
    "    print(f'The array a with size {a.size} does the same size as the array b with size {b.size}')\n",
    "else:\n",
    "    print(f'The array a with size {a.size} does not equal size as the array b with size {b.size}')"
   ]
  },
  {
   "cell_type": "markdown",
   "metadata": {},
   "source": [
    "#### 8. Are you able to add *a* and *b*? Why or why not?\n"
   ]
  },
  {
   "cell_type": "code",
   "execution_count": 111,
   "metadata": {},
   "outputs": [
    {
     "name": "stdout",
     "output_type": "stream",
     "text": [
      "[[[74. 70.  9. 20.  7.]\n",
      "  [82. 12. 31. 57. 90.]\n",
      "  [73. 90. 15. 15. 74.]]\n",
      "\n",
      " [[99. 68. 29. 34. 50.]\n",
      "  [ 1. 77. 46. 15. 78.]\n",
      "  [38. 10. 73. 57.  1.]]] \n",
      "\n",
      " The shape of both arrays must be the same. Then I reshape an array (in this case the array b) to apply the addition between them.\n"
     ]
    }
   ],
   "source": [
    "# your answer here\n",
    "np.add(a,np.reshape(b,(2,3,5)))\n",
    "\n",
    "print(np.add(a,np.reshape(b,(2,3,5))),'\\n'*2,'The shape of both arrays must be the same. Then I reshape an array (in this case the array b) to apply the addition between them.')"
   ]
  },
  {
   "cell_type": "markdown",
   "metadata": {},
   "source": [
    "#### 9. Transpose *b* so that it has the same structure of *a* (i.e. become a 2x3x5 array). Assign the transposed array to variable *c*."
   ]
  },
  {
   "cell_type": "code",
   "execution_count": 112,
   "metadata": {},
   "outputs": [
    {
     "data": {
      "text/plain": [
       "array([[[1., 1., 1., 1., 1.],\n",
       "        [1., 1., 1., 1., 1.],\n",
       "        [1., 1., 1., 1., 1.]],\n",
       "\n",
       "       [[1., 1., 1., 1., 1.],\n",
       "        [1., 1., 1., 1., 1.],\n",
       "        [1., 1., 1., 1., 1.]]])"
      ]
     },
     "execution_count": 112,
     "metadata": {},
     "output_type": "execute_result"
    }
   ],
   "source": [
    "# your code here\n",
    "c = np.reshape(b,(2,3,5))\n",
    "c"
   ]
  },
  {
   "cell_type": "markdown",
   "metadata": {},
   "source": [
    "#### 10. Try to add *a* and *c*. Now it should work. Assign the sum to variable *d*. But why does it work now?"
   ]
  },
  {
   "cell_type": "code",
   "execution_count": 113,
   "metadata": {},
   "outputs": [
    {
     "name": "stdout",
     "output_type": "stream",
     "text": [
      "[[[74. 70.  9. 20.  7.]\n",
      "  [82. 12. 31. 57. 90.]\n",
      "  [73. 90. 15. 15. 74.]]\n",
      "\n",
      " [[99. 68. 29. 34. 50.]\n",
      "  [ 1. 77. 46. 15. 78.]\n",
      "  [38. 10. 73. 57.  1.]]] \n",
      "\n",
      " After we reshape the array b into variable c, we can do the addition between them because the shape of both are the same.\n"
     ]
    }
   ],
   "source": [
    "# your code/answer here\n",
    "d = np.add(a,c)\n",
    "d\n",
    "\n",
    "print(d,'\\n'*2,'After we reshape the array b into variable c, we can do the addition between them because the shape of both are the same.')"
   ]
  },
  {
   "cell_type": "markdown",
   "metadata": {},
   "source": [
    "#### 11. Print *a* and *d*. Notice the difference and relation of the two array in terms of the values? Explain."
   ]
  },
  {
   "cell_type": "code",
   "execution_count": 114,
   "metadata": {},
   "outputs": [
    {
     "name": "stdout",
     "output_type": "stream",
     "text": [
      "[[[73 69  8 19  6]\n",
      "  [81 11 30 56 89]\n",
      "  [72 89 14 14 73]]\n",
      "\n",
      " [[98 67 28 33 49]\n",
      "  [ 0 76 45 14 77]\n",
      "  [37  9 72 56  0]]] \n",
      "\n",
      "\n",
      "\n",
      " [[[74. 70.  9. 20.  7.]\n",
      "  [82. 12. 31. 57. 90.]\n",
      "  [73. 90. 15. 15. 74.]]\n",
      "\n",
      " [[99. 68. 29. 34. 50.]\n",
      "  [ 1. 77. 46. 15. 78.]\n",
      "  [38. 10. 73. 57.  1.]]] \n",
      "\n",
      " The relation of the two array is given by the value of matrix c, which in turns is given by the matrix b with a new shape or resizing. Then, it can be confirm that a = np.subtract(d,c)\n"
     ]
    }
   ],
   "source": [
    "# your code/answer here\n",
    "print(a,'\\n'*4,d,'\\n'*2,'The relation of the two array is given by the value of matrix c, which in turns is given by the matrix b with a new shape or resizing. Then, it can be confirm that a = np.subtract(d,c)')"
   ]
  },
  {
   "cell_type": "markdown",
   "metadata": {},
   "source": [
    "#### 12. Multiply *a* and *c*. Assign the result to *e*."
   ]
  },
  {
   "cell_type": "code",
   "execution_count": 115,
   "metadata": {},
   "outputs": [],
   "source": [
    "# your code here\n",
    "e =np.multiply(a,c)"
   ]
  },
  {
   "cell_type": "markdown",
   "metadata": {},
   "source": [
    "#### 13. Does *e* equal to *a*? Why or why not?\n"
   ]
  },
  {
   "cell_type": "code",
   "execution_count": 116,
   "metadata": {},
   "outputs": [
    {
     "name": "stdout",
     "output_type": "stream",
     "text": [
      "both arrays are equal because the array \"e\" is defined by the array \"a\" multiplied by an array whose elements are of value 1. Then, I can affirm that array \"e\" is equal to the array \"a\".\n"
     ]
    }
   ],
   "source": [
    "# your code/answer here\n",
    "if np.array_equal(e,a) == True:\n",
    "    print('both arrays are equal because the array \"e\" is defined by the array \"a\" multiplied by an array whose elements are of value 1. Then, I can affirm that array \"e\" is equal to the array \"a\".')\n",
    "else:\n",
    "    print('both arrays are not equal between them.')"
   ]
  },
  {
   "cell_type": "markdown",
   "metadata": {},
   "source": [
    "#### 14. Identify the max, min, and mean values in *d*. Assign those values to variables *d_max*, *d_min* and *d_mean*."
   ]
  },
  {
   "cell_type": "code",
   "execution_count": 117,
   "metadata": {},
   "outputs": [],
   "source": [
    "# your code here\n",
    "d_max = np.amax(d)\n",
    "d_min = np.amin(d)\n",
    "d_mean = np.mean(d)"
   ]
  },
  {
   "cell_type": "markdown",
   "metadata": {},
   "source": [
    "#### 15. Now we want to label the values in *d*. First create an empty array *f* with the same shape (i.e. 2x3x5) as *d* using `np.empty`.\n"
   ]
  },
  {
   "cell_type": "code",
   "execution_count": 165,
   "metadata": {},
   "outputs": [],
   "source": [
    "# your code here\n",
    "f = np.empty((2,3,5))"
   ]
  },
  {
   "cell_type": "markdown",
   "metadata": {},
   "source": [
    "#### 16. Populate the values in *f*. \n",
    "\n",
    "For each value in *d*, if it's larger than *d_min* but smaller than *d_mean*, assign 25 to the corresponding value in *f*. If a value in *d* is larger than *d_mean* but smaller than *d_max*, assign 75 to the corresponding value in *f*. If a value equals to *d_mean*, assign 50 to the corresponding value in *f*. Assign 0 to the corresponding value(s) in *f* for *d_min* in *d*. Assign 100 to the corresponding value(s) in *f* for *d_max* in *d*. In the end, f should have only the following values: 0, 25, 50, 75, and 100.\n",
    "\n",
    "**Note**: you don't have to use Numpy in this question."
   ]
  },
  {
   "cell_type": "code",
   "execution_count": 166,
   "metadata": {},
   "outputs": [],
   "source": [
    "# your code here\n",
    "f_lst= f.tolist()\n",
    "result=[]\n",
    "for array in f_lst:\n",
    "    for element in array:\n",
    "        for number in element:\n",
    "            if d_min < number < d_mean:\n",
    "                result.append(25)\n",
    "            elif d_mean < number < d_max:\n",
    "                result.append(75)\n",
    "            elif number == d_mean:\n",
    "                result.append(50)\n",
    "            elif number == d_max:\n",
    "                result.append(100)\n",
    "            elif number == d_min:\n",
    "                result.append(0)"
   ]
  },
  {
   "cell_type": "markdown",
   "metadata": {},
   "source": [
    "#### 17. Print *d* and *f*. Do you have your expected *f*?\n",
    "For instance, if your *d* is:\n",
    "```python\n",
    "[[[1.85836099, 1.67064465, 1.62576044, 1.40243961, 1.88454931],\n",
    "[1.75354326, 1.69403643, 1.36729252, 1.61415071, 1.12104981],\n",
    "[1.72201435, 1.1862918 , 1.87078449, 1.7726778 , 1.88180042]],\n",
    "[[1.44747908, 1.31673383, 1.02000951, 1.52218947, 1.97066381],\n",
    "[1.79129243, 1.74983003, 1.96028037, 1.85166831, 1.65450881],\n",
    "[1.18068344, 1.9587381 , 1.00656599, 1.93402165, 1.73514584]]]\n",
    "```\n",
    "Your *f* should be:\n",
    "```python\n",
    "[[[ 75.,  75.,  75.,  25.,  75.],\n",
    "[ 75.,  75.,  25.,  25.,  25.],\n",
    "[ 75.,  25.,  75.,  75.,  75.]],\n",
    "[[ 25.,  25.,  25.,  25., 100.],\n",
    "[ 75.,  75.,  75.,  75.,  75.],\n",
    "[ 25.,  75.,   0.,  75.,  75.]]]\n",
    "```"
   ]
  },
  {
   "cell_type": "code",
   "execution_count": 167,
   "metadata": {},
   "outputs": [
    {
     "name": "stdout",
     "output_type": "stream",
     "text": [
      "This is the array d: \n",
      "[[[74. 70.  9. 20.  7.]\n",
      "  [82. 12. 31. 57. 90.]\n",
      "  [73. 90. 15. 15. 74.]]\n",
      "\n",
      " [[99. 68. 29. 34. 50.]\n",
      "  [ 1. 77. 46. 15. 78.]\n",
      "  [38. 10. 73. 57.  1.]]] \n",
      "\n",
      " and this is the array f: \n",
      "[[[ 75  75  25  25  25]\n",
      "  [ 75  25  25  75  75]\n",
      "  [ 75  75  25  25  75]]\n",
      "\n",
      " [[100  75  25  25  75]\n",
      "  [  0  75  25  25  75]\n",
      "  [ 25  25  75  75   0]]]\n"
     ]
    }
   ],
   "source": [
    "# your code here\n",
    "f=np.array(result).reshape(2,3,5)\n",
    "print(f'This is the array d: \\n{d} \\n\\n and this is the array f: \\n{f}')"
   ]
  },
  {
   "cell_type": "markdown",
   "metadata": {},
   "source": [
    "#### 18. Bonus question: instead of using numbers (i.e. 0, 25, 50, 75, and 100), use string values  (\"A\", \"B\", \"C\", \"D\", and \"E\") to label the array elements. For the example above, the expected result is:\n",
    "\n",
    "```python\n",
    "[[[ 'D',  'D',  'D',  'B',  'D'],\n",
    "[ 'D',  'D',  'B',  'B',  'B'],\n",
    "[ 'D',  'B',  'D',  'D',  'D']],\n",
    "[[ 'B',  'B',  'B',  'B',  'E'],\n",
    "[ 'D',  'D',  'D',  'D',  'D'],\n",
    "[ 'B',  'D',   'A',  'D', 'D']]]\n",
    "```\n",
    "**Note**: you don't have to use Numpy in this question."
   ]
  },
  {
   "cell_type": "code",
   "execution_count": 180,
   "metadata": {},
   "outputs": [
    {
     "data": {
      "text/plain": [
       "array([[['D', 'D', 'B', 'B', 'B'],\n",
       "        ['D', 'B', 'B', 'D', 'D'],\n",
       "        ['D', 'D', 'B', 'B', 'D']],\n",
       "\n",
       "       [['E', 'D', 'B', 'B', 'D'],\n",
       "        ['A', 'D', 'B', 'B', 'D'],\n",
       "        ['B', 'B', 'D', 'D', 'A']]], dtype='<U1')"
      ]
     },
     "execution_count": 180,
     "metadata": {},
     "output_type": "execute_result"
    }
   ],
   "source": [
    "# your code here\n",
    "letters = []\n",
    "for array in f_lst:\n",
    "    for element in array:\n",
    "        for number in element:\n",
    "            if number == d_min:\n",
    "                letters.append('A')\n",
    "            elif d_min < number < d_mean:\n",
    "                letters.append('B')\n",
    "            elif number == d_mean:\n",
    "                letters.append('C')\n",
    "            elif d_mean < number < d_max:\n",
    "                letters.append('D')\n",
    "            elif number == d_max:\n",
    "                letters.append('E')\n",
    "bonus = np.array(letters).reshape(2,3,5)\n",
    "bonus"
   ]
  }
 ],
 "metadata": {
  "kernelspec": {
   "display_name": "Python [conda env:ironhack_env]",
   "language": "python",
   "name": "conda-env-ironhack_env-py"
  },
  "language_info": {
   "codemirror_mode": {
    "name": "ipython",
    "version": 3
   },
   "file_extension": ".py",
   "mimetype": "text/x-python",
   "name": "python",
   "nbconvert_exporter": "python",
   "pygments_lexer": "ipython3",
   "version": "3.7.6"
  }
 },
 "nbformat": 4,
 "nbformat_minor": 2
}
